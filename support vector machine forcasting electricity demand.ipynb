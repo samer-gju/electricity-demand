{
 "cells": [
  {
   "cell_type": "code",
   "execution_count": 15,
   "id": "854758be",
   "metadata": {},
   "outputs": [],
   "source": [
    "import pandas as pd\n",
    " \n",
    "df1 = pd.read_excel('C:\\\\Users\\\\Samer\\\\Documents\\\\My Project\\\\Focasting electricity demand\\\\data of electricity demands\\\\data prepared.xlsx')"
   ]
  },
  {
   "cell_type": "code",
   "execution_count": 16,
   "id": "b260c342",
   "metadata": {},
   "outputs": [],
   "source": [
    "df2=df1['t24']"
   ]
  },
  {
   "cell_type": "code",
   "execution_count": 17,
   "id": "0565226e",
   "metadata": {},
   "outputs": [
    {
     "data": {
      "text/plain": [
       "0        2.293033\n",
       "1        1.955156\n",
       "2        1.773933\n",
       "3        1.688968\n",
       "4        1.759395\n",
       "           ...   \n",
       "25506    2.893897\n",
       "25507    2.643538\n",
       "25508    2.572072\n",
       "25509    2.522610\n",
       "25510    2.453759\n",
       "Name: t24, Length: 25511, dtype: float64"
      ]
     },
     "execution_count": 17,
     "metadata": {},
     "output_type": "execute_result"
    }
   ],
   "source": [
    "df2"
   ]
  },
  {
   "cell_type": "code",
   "execution_count": 18,
   "id": "198b61b5",
   "metadata": {},
   "outputs": [],
   "source": [
    "del df1['t24']"
   ]
  },
  {
   "cell_type": "code",
   "execution_count": 19,
   "id": "63694f4f",
   "metadata": {},
   "outputs": [
    {
     "data": {
      "text/html": [
       "<div>\n",
       "<style scoped>\n",
       "    .dataframe tbody tr th:only-of-type {\n",
       "        vertical-align: middle;\n",
       "    }\n",
       "\n",
       "    .dataframe tbody tr th {\n",
       "        vertical-align: top;\n",
       "    }\n",
       "\n",
       "    .dataframe thead th {\n",
       "        text-align: right;\n",
       "    }\n",
       "</style>\n",
       "<table border=\"1\" class=\"dataframe\">\n",
       "  <thead>\n",
       "    <tr style=\"text-align: right;\">\n",
       "      <th></th>\n",
       "      <th>t0</th>\n",
       "      <th>t1</th>\n",
       "      <th>t2</th>\n",
       "      <th>t3</th>\n",
       "      <th>t4</th>\n",
       "      <th>t5</th>\n",
       "      <th>t6</th>\n",
       "      <th>t7</th>\n",
       "      <th>t8</th>\n",
       "      <th>t9</th>\n",
       "      <th>...</th>\n",
       "      <th>t14</th>\n",
       "      <th>t15</th>\n",
       "      <th>t16</th>\n",
       "      <th>t17</th>\n",
       "      <th>t18</th>\n",
       "      <th>t19</th>\n",
       "      <th>t20</th>\n",
       "      <th>t21</th>\n",
       "      <th>t22</th>\n",
       "      <th>t23</th>\n",
       "    </tr>\n",
       "  </thead>\n",
       "  <tbody>\n",
       "    <tr>\n",
       "      <th>0</th>\n",
       "      <td>2.280631</td>\n",
       "      <td>1.964545</td>\n",
       "      <td>1.775403</td>\n",
       "      <td>1.691213</td>\n",
       "      <td>1.737164</td>\n",
       "      <td>2.083686</td>\n",
       "      <td>1.593808</td>\n",
       "      <td>1.440593</td>\n",
       "      <td>1.795656</td>\n",
       "      <td>2.382105</td>\n",
       "      <td>...</td>\n",
       "      <td>2.315336</td>\n",
       "      <td>2.099430</td>\n",
       "      <td>2.065286</td>\n",
       "      <td>3.129499</td>\n",
       "      <td>3.389889</td>\n",
       "      <td>3.172598</td>\n",
       "      <td>3.069729</td>\n",
       "      <td>3.021039</td>\n",
       "      <td>2.855121</td>\n",
       "      <td>2.570967</td>\n",
       "    </tr>\n",
       "    <tr>\n",
       "      <th>1</th>\n",
       "      <td>1.964545</td>\n",
       "      <td>1.775403</td>\n",
       "      <td>1.691213</td>\n",
       "      <td>1.737164</td>\n",
       "      <td>2.083686</td>\n",
       "      <td>1.593808</td>\n",
       "      <td>1.440593</td>\n",
       "      <td>1.795656</td>\n",
       "      <td>2.382105</td>\n",
       "      <td>2.958203</td>\n",
       "      <td>...</td>\n",
       "      <td>2.099430</td>\n",
       "      <td>2.065286</td>\n",
       "      <td>3.129499</td>\n",
       "      <td>3.389889</td>\n",
       "      <td>3.172598</td>\n",
       "      <td>3.069729</td>\n",
       "      <td>3.021039</td>\n",
       "      <td>2.855121</td>\n",
       "      <td>2.570967</td>\n",
       "      <td>2.293033</td>\n",
       "    </tr>\n",
       "    <tr>\n",
       "      <th>2</th>\n",
       "      <td>1.775403</td>\n",
       "      <td>1.691213</td>\n",
       "      <td>1.737164</td>\n",
       "      <td>2.083686</td>\n",
       "      <td>1.593808</td>\n",
       "      <td>1.440593</td>\n",
       "      <td>1.795656</td>\n",
       "      <td>2.382105</td>\n",
       "      <td>2.958203</td>\n",
       "      <td>3.279300</td>\n",
       "      <td>...</td>\n",
       "      <td>2.065286</td>\n",
       "      <td>3.129499</td>\n",
       "      <td>3.389889</td>\n",
       "      <td>3.172598</td>\n",
       "      <td>3.069729</td>\n",
       "      <td>3.021039</td>\n",
       "      <td>2.855121</td>\n",
       "      <td>2.570967</td>\n",
       "      <td>2.293033</td>\n",
       "      <td>1.955156</td>\n",
       "    </tr>\n",
       "    <tr>\n",
       "      <th>3</th>\n",
       "      <td>1.691213</td>\n",
       "      <td>1.737164</td>\n",
       "      <td>2.083686</td>\n",
       "      <td>1.593808</td>\n",
       "      <td>1.440593</td>\n",
       "      <td>1.795656</td>\n",
       "      <td>2.382105</td>\n",
       "      <td>2.958203</td>\n",
       "      <td>3.279300</td>\n",
       "      <td>3.062276</td>\n",
       "      <td>...</td>\n",
       "      <td>3.129499</td>\n",
       "      <td>3.389889</td>\n",
       "      <td>3.172598</td>\n",
       "      <td>3.069729</td>\n",
       "      <td>3.021039</td>\n",
       "      <td>2.855121</td>\n",
       "      <td>2.570967</td>\n",
       "      <td>2.293033</td>\n",
       "      <td>1.955156</td>\n",
       "      <td>1.773933</td>\n",
       "    </tr>\n",
       "    <tr>\n",
       "      <th>4</th>\n",
       "      <td>1.737164</td>\n",
       "      <td>2.083686</td>\n",
       "      <td>1.593808</td>\n",
       "      <td>1.440593</td>\n",
       "      <td>1.795656</td>\n",
       "      <td>2.382105</td>\n",
       "      <td>2.958203</td>\n",
       "      <td>3.279300</td>\n",
       "      <td>3.062276</td>\n",
       "      <td>2.566610</td>\n",
       "      <td>...</td>\n",
       "      <td>3.389889</td>\n",
       "      <td>3.172598</td>\n",
       "      <td>3.069729</td>\n",
       "      <td>3.021039</td>\n",
       "      <td>2.855121</td>\n",
       "      <td>2.570967</td>\n",
       "      <td>2.293033</td>\n",
       "      <td>1.955156</td>\n",
       "      <td>1.773933</td>\n",
       "      <td>1.688968</td>\n",
       "    </tr>\n",
       "    <tr>\n",
       "      <th>...</th>\n",
       "      <td>...</td>\n",
       "      <td>...</td>\n",
       "      <td>...</td>\n",
       "      <td>...</td>\n",
       "      <td>...</td>\n",
       "      <td>...</td>\n",
       "      <td>...</td>\n",
       "      <td>...</td>\n",
       "      <td>...</td>\n",
       "      <td>...</td>\n",
       "      <td>...</td>\n",
       "      <td>...</td>\n",
       "      <td>...</td>\n",
       "      <td>...</td>\n",
       "      <td>...</td>\n",
       "      <td>...</td>\n",
       "      <td>...</td>\n",
       "      <td>...</td>\n",
       "      <td>...</td>\n",
       "      <td>...</td>\n",
       "      <td>...</td>\n",
       "    </tr>\n",
       "    <tr>\n",
       "      <th>25506</th>\n",
       "      <td>2.960483</td>\n",
       "      <td>2.718003</td>\n",
       "      <td>2.653345</td>\n",
       "      <td>2.626334</td>\n",
       "      <td>2.508926</td>\n",
       "      <td>2.315123</td>\n",
       "      <td>1.979475</td>\n",
       "      <td>1.661473</td>\n",
       "      <td>1.468288</td>\n",
       "      <td>1.364739</td>\n",
       "      <td>...</td>\n",
       "      <td>1.166107</td>\n",
       "      <td>1.240965</td>\n",
       "      <td>1.641351</td>\n",
       "      <td>1.811886</td>\n",
       "      <td>1.808856</td>\n",
       "      <td>1.836523</td>\n",
       "      <td>1.978465</td>\n",
       "      <td>2.098977</td>\n",
       "      <td>2.624219</td>\n",
       "      <td>3.050074</td>\n",
       "    </tr>\n",
       "    <tr>\n",
       "      <th>25507</th>\n",
       "      <td>2.718003</td>\n",
       "      <td>2.653345</td>\n",
       "      <td>2.626334</td>\n",
       "      <td>2.508926</td>\n",
       "      <td>2.315123</td>\n",
       "      <td>1.979475</td>\n",
       "      <td>1.661473</td>\n",
       "      <td>1.468288</td>\n",
       "      <td>1.364739</td>\n",
       "      <td>1.362090</td>\n",
       "      <td>...</td>\n",
       "      <td>1.240965</td>\n",
       "      <td>1.641351</td>\n",
       "      <td>1.811886</td>\n",
       "      <td>1.808856</td>\n",
       "      <td>1.836523</td>\n",
       "      <td>1.978465</td>\n",
       "      <td>2.098977</td>\n",
       "      <td>2.624219</td>\n",
       "      <td>3.050074</td>\n",
       "      <td>2.893897</td>\n",
       "    </tr>\n",
       "    <tr>\n",
       "      <th>25508</th>\n",
       "      <td>2.653345</td>\n",
       "      <td>2.626334</td>\n",
       "      <td>2.508926</td>\n",
       "      <td>2.315123</td>\n",
       "      <td>1.979475</td>\n",
       "      <td>1.661473</td>\n",
       "      <td>1.468288</td>\n",
       "      <td>1.364739</td>\n",
       "      <td>1.362090</td>\n",
       "      <td>1.602700</td>\n",
       "      <td>...</td>\n",
       "      <td>1.641351</td>\n",
       "      <td>1.811886</td>\n",
       "      <td>1.808856</td>\n",
       "      <td>1.836523</td>\n",
       "      <td>1.978465</td>\n",
       "      <td>2.098977</td>\n",
       "      <td>2.624219</td>\n",
       "      <td>3.050074</td>\n",
       "      <td>2.893897</td>\n",
       "      <td>2.643538</td>\n",
       "    </tr>\n",
       "    <tr>\n",
       "      <th>25509</th>\n",
       "      <td>2.626334</td>\n",
       "      <td>2.508926</td>\n",
       "      <td>2.315123</td>\n",
       "      <td>1.979475</td>\n",
       "      <td>1.661473</td>\n",
       "      <td>1.468288</td>\n",
       "      <td>1.364739</td>\n",
       "      <td>1.362090</td>\n",
       "      <td>1.602700</td>\n",
       "      <td>1.467115</td>\n",
       "      <td>...</td>\n",
       "      <td>1.811886</td>\n",
       "      <td>1.808856</td>\n",
       "      <td>1.836523</td>\n",
       "      <td>1.978465</td>\n",
       "      <td>2.098977</td>\n",
       "      <td>2.624219</td>\n",
       "      <td>3.050074</td>\n",
       "      <td>2.893897</td>\n",
       "      <td>2.643538</td>\n",
       "      <td>2.572072</td>\n",
       "    </tr>\n",
       "    <tr>\n",
       "      <th>25510</th>\n",
       "      <td>2.508926</td>\n",
       "      <td>2.315123</td>\n",
       "      <td>1.979475</td>\n",
       "      <td>1.661473</td>\n",
       "      <td>1.468288</td>\n",
       "      <td>1.364739</td>\n",
       "      <td>1.362090</td>\n",
       "      <td>1.602700</td>\n",
       "      <td>1.467115</td>\n",
       "      <td>1.191870</td>\n",
       "      <td>...</td>\n",
       "      <td>1.808856</td>\n",
       "      <td>1.836523</td>\n",
       "      <td>1.978465</td>\n",
       "      <td>2.098977</td>\n",
       "      <td>2.624219</td>\n",
       "      <td>3.050074</td>\n",
       "      <td>2.893897</td>\n",
       "      <td>2.643538</td>\n",
       "      <td>2.572072</td>\n",
       "      <td>2.522610</td>\n",
       "    </tr>\n",
       "  </tbody>\n",
       "</table>\n",
       "<p>25511 rows × 24 columns</p>\n",
       "</div>"
      ],
      "text/plain": [
       "             t0        t1        t2        t3        t4        t5        t6  \\\n",
       "0      2.280631  1.964545  1.775403  1.691213  1.737164  2.083686  1.593808   \n",
       "1      1.964545  1.775403  1.691213  1.737164  2.083686  1.593808  1.440593   \n",
       "2      1.775403  1.691213  1.737164  2.083686  1.593808  1.440593  1.795656   \n",
       "3      1.691213  1.737164  2.083686  1.593808  1.440593  1.795656  2.382105   \n",
       "4      1.737164  2.083686  1.593808  1.440593  1.795656  2.382105  2.958203   \n",
       "...         ...       ...       ...       ...       ...       ...       ...   \n",
       "25506  2.960483  2.718003  2.653345  2.626334  2.508926  2.315123  1.979475   \n",
       "25507  2.718003  2.653345  2.626334  2.508926  2.315123  1.979475  1.661473   \n",
       "25508  2.653345  2.626334  2.508926  2.315123  1.979475  1.661473  1.468288   \n",
       "25509  2.626334  2.508926  2.315123  1.979475  1.661473  1.468288  1.364739   \n",
       "25510  2.508926  2.315123  1.979475  1.661473  1.468288  1.364739  1.362090   \n",
       "\n",
       "             t7        t8        t9  ...       t14       t15       t16  \\\n",
       "0      1.440593  1.795656  2.382105  ...  2.315336  2.099430  2.065286   \n",
       "1      1.795656  2.382105  2.958203  ...  2.099430  2.065286  3.129499   \n",
       "2      2.382105  2.958203  3.279300  ...  2.065286  3.129499  3.389889   \n",
       "3      2.958203  3.279300  3.062276  ...  3.129499  3.389889  3.172598   \n",
       "4      3.279300  3.062276  2.566610  ...  3.389889  3.172598  3.069729   \n",
       "...         ...       ...       ...  ...       ...       ...       ...   \n",
       "25506  1.661473  1.468288  1.364739  ...  1.166107  1.240965  1.641351   \n",
       "25507  1.468288  1.364739  1.362090  ...  1.240965  1.641351  1.811886   \n",
       "25508  1.364739  1.362090  1.602700  ...  1.641351  1.811886  1.808856   \n",
       "25509  1.362090  1.602700  1.467115  ...  1.811886  1.808856  1.836523   \n",
       "25510  1.602700  1.467115  1.191870  ...  1.808856  1.836523  1.978465   \n",
       "\n",
       "            t17       t18       t19       t20       t21       t22       t23  \n",
       "0      3.129499  3.389889  3.172598  3.069729  3.021039  2.855121  2.570967  \n",
       "1      3.389889  3.172598  3.069729  3.021039  2.855121  2.570967  2.293033  \n",
       "2      3.172598  3.069729  3.021039  2.855121  2.570967  2.293033  1.955156  \n",
       "3      3.069729  3.021039  2.855121  2.570967  2.293033  1.955156  1.773933  \n",
       "4      3.021039  2.855121  2.570967  2.293033  1.955156  1.773933  1.688968  \n",
       "...         ...       ...       ...       ...       ...       ...       ...  \n",
       "25506  1.811886  1.808856  1.836523  1.978465  2.098977  2.624219  3.050074  \n",
       "25507  1.808856  1.836523  1.978465  2.098977  2.624219  3.050074  2.893897  \n",
       "25508  1.836523  1.978465  2.098977  2.624219  3.050074  2.893897  2.643538  \n",
       "25509  1.978465  2.098977  2.624219  3.050074  2.893897  2.643538  2.572072  \n",
       "25510  2.098977  2.624219  3.050074  2.893897  2.643538  2.572072  2.522610  \n",
       "\n",
       "[25511 rows x 24 columns]"
      ]
     },
     "execution_count": 19,
     "metadata": {},
     "output_type": "execute_result"
    }
   ],
   "source": [
    "df1"
   ]
  },
  {
   "cell_type": "code",
   "execution_count": 20,
   "id": "d198d17c",
   "metadata": {},
   "outputs": [],
   "source": [
    "names=df1.columns"
   ]
  },
  {
   "cell_type": "code",
   "execution_count": 21,
   "id": "a6116308",
   "metadata": {},
   "outputs": [
    {
     "data": {
      "text/plain": [
       "Index(['t0', 't1', 't2', 't3', 't4', 't5', 't6', 't7', 't8', 't9', 't10',\n",
       "       't11', 't12', 't13', 't14', 't15', 't16', 't17', 't18', 't19', 't20',\n",
       "       't21', 't22', 't23'],\n",
       "      dtype='object')"
      ]
     },
     "execution_count": 21,
     "metadata": {},
     "output_type": "execute_result"
    }
   ],
   "source": [
    "names"
   ]
  },
  {
   "cell_type": "code",
   "execution_count": 22,
   "id": "c988b467",
   "metadata": {},
   "outputs": [
    {
     "data": {
      "text/html": [
       "<div>\n",
       "<style scoped>\n",
       "    .dataframe tbody tr th:only-of-type {\n",
       "        vertical-align: middle;\n",
       "    }\n",
       "\n",
       "    .dataframe tbody tr th {\n",
       "        vertical-align: top;\n",
       "    }\n",
       "\n",
       "    .dataframe thead th {\n",
       "        text-align: right;\n",
       "    }\n",
       "</style>\n",
       "<table border=\"1\" class=\"dataframe\">\n",
       "  <thead>\n",
       "    <tr style=\"text-align: right;\">\n",
       "      <th></th>\n",
       "      <th>t0</th>\n",
       "      <th>t1</th>\n",
       "      <th>t2</th>\n",
       "      <th>t3</th>\n",
       "      <th>t4</th>\n",
       "      <th>t5</th>\n",
       "      <th>t6</th>\n",
       "      <th>t7</th>\n",
       "      <th>t8</th>\n",
       "      <th>t9</th>\n",
       "      <th>...</th>\n",
       "      <th>t14</th>\n",
       "      <th>t15</th>\n",
       "      <th>t16</th>\n",
       "      <th>t17</th>\n",
       "      <th>t18</th>\n",
       "      <th>t19</th>\n",
       "      <th>t20</th>\n",
       "      <th>t21</th>\n",
       "      <th>t22</th>\n",
       "      <th>t23</th>\n",
       "    </tr>\n",
       "  </thead>\n",
       "  <tbody>\n",
       "    <tr>\n",
       "      <th>0</th>\n",
       "      <td>0.139269</td>\n",
       "      <td>-0.312818</td>\n",
       "      <td>-0.583343</td>\n",
       "      <td>-0.703747</td>\n",
       "      <td>-0.638005</td>\n",
       "      <td>-0.142372</td>\n",
       "      <td>-0.842940</td>\n",
       "      <td>-1.062065</td>\n",
       "      <td>-0.554264</td>\n",
       "      <td>0.284486</td>\n",
       "      <td>...</td>\n",
       "      <td>0.189369</td>\n",
       "      <td>-0.119381</td>\n",
       "      <td>-0.168205</td>\n",
       "      <td>1.353765</td>\n",
       "      <td>1.726236</td>\n",
       "      <td>1.415530</td>\n",
       "      <td>1.268445</td>\n",
       "      <td>1.198858</td>\n",
       "      <td>0.961596</td>\n",
       "      <td>0.555192</td>\n",
       "    </tr>\n",
       "    <tr>\n",
       "      <th>1</th>\n",
       "      <td>-0.312816</td>\n",
       "      <td>-0.583342</td>\n",
       "      <td>-0.703756</td>\n",
       "      <td>-0.638025</td>\n",
       "      <td>-0.142395</td>\n",
       "      <td>-0.843003</td>\n",
       "      <td>-1.062064</td>\n",
       "      <td>-0.554262</td>\n",
       "      <td>0.284462</td>\n",
       "      <td>1.108382</td>\n",
       "      <td>...</td>\n",
       "      <td>-0.119408</td>\n",
       "      <td>-0.168212</td>\n",
       "      <td>1.353767</td>\n",
       "      <td>1.726159</td>\n",
       "      <td>1.415471</td>\n",
       "      <td>1.268405</td>\n",
       "      <td>1.198807</td>\n",
       "      <td>0.961549</td>\n",
       "      <td>0.555166</td>\n",
       "      <td>0.157655</td>\n",
       "    </tr>\n",
       "    <tr>\n",
       "      <th>2</th>\n",
       "      <td>-0.583340</td>\n",
       "      <td>-0.703755</td>\n",
       "      <td>-0.638034</td>\n",
       "      <td>-0.142409</td>\n",
       "      <td>-0.843040</td>\n",
       "      <td>-1.062133</td>\n",
       "      <td>-0.554261</td>\n",
       "      <td>0.284463</td>\n",
       "      <td>1.108385</td>\n",
       "      <td>1.567593</td>\n",
       "      <td>...</td>\n",
       "      <td>-0.168239</td>\n",
       "      <td>1.353762</td>\n",
       "      <td>1.726160</td>\n",
       "      <td>1.415403</td>\n",
       "      <td>1.268350</td>\n",
       "      <td>1.198768</td>\n",
       "      <td>0.961503</td>\n",
       "      <td>0.555129</td>\n",
       "      <td>0.157635</td>\n",
       "      <td>-0.325621</td>\n",
       "    </tr>\n",
       "    <tr>\n",
       "      <th>3</th>\n",
       "      <td>-0.703753</td>\n",
       "      <td>-0.638033</td>\n",
       "      <td>-0.142416</td>\n",
       "      <td>-0.843061</td>\n",
       "      <td>-1.062174</td>\n",
       "      <td>-0.554316</td>\n",
       "      <td>0.284463</td>\n",
       "      <td>1.108385</td>\n",
       "      <td>1.567611</td>\n",
       "      <td>1.257220</td>\n",
       "      <td>...</td>\n",
       "      <td>1.353741</td>\n",
       "      <td>1.726156</td>\n",
       "      <td>1.415405</td>\n",
       "      <td>1.268286</td>\n",
       "      <td>1.198715</td>\n",
       "      <td>0.961469</td>\n",
       "      <td>0.555092</td>\n",
       "      <td>0.157606</td>\n",
       "      <td>-0.325635</td>\n",
       "      <td>-0.584829</td>\n",
       "    </tr>\n",
       "    <tr>\n",
       "      <th>4</th>\n",
       "      <td>-0.638031</td>\n",
       "      <td>-0.142415</td>\n",
       "      <td>-0.843071</td>\n",
       "      <td>-1.062198</td>\n",
       "      <td>-0.554348</td>\n",
       "      <td>0.284430</td>\n",
       "      <td>1.108385</td>\n",
       "      <td>1.567610</td>\n",
       "      <td>1.257228</td>\n",
       "      <td>0.548353</td>\n",
       "      <td>...</td>\n",
       "      <td>1.726136</td>\n",
       "      <td>1.415400</td>\n",
       "      <td>1.268288</td>\n",
       "      <td>1.198653</td>\n",
       "      <td>0.961423</td>\n",
       "      <td>0.555066</td>\n",
       "      <td>0.157578</td>\n",
       "      <td>-0.325653</td>\n",
       "      <td>-0.584840</td>\n",
       "      <td>-0.706357</td>\n",
       "    </tr>\n",
       "    <tr>\n",
       "      <th>...</th>\n",
       "      <td>...</td>\n",
       "      <td>...</td>\n",
       "      <td>...</td>\n",
       "      <td>...</td>\n",
       "      <td>...</td>\n",
       "      <td>...</td>\n",
       "      <td>...</td>\n",
       "      <td>...</td>\n",
       "      <td>...</td>\n",
       "      <td>...</td>\n",
       "      <td>...</td>\n",
       "      <td>...</td>\n",
       "      <td>...</td>\n",
       "      <td>...</td>\n",
       "      <td>...</td>\n",
       "      <td>...</td>\n",
       "      <td>...</td>\n",
       "      <td>...</td>\n",
       "      <td>...</td>\n",
       "      <td>...</td>\n",
       "      <td>...</td>\n",
       "    </tr>\n",
       "    <tr>\n",
       "      <th>25506</th>\n",
       "      <td>1.111635</td>\n",
       "      <td>0.764823</td>\n",
       "      <td>0.672345</td>\n",
       "      <td>0.633716</td>\n",
       "      <td>0.465799</td>\n",
       "      <td>0.188632</td>\n",
       "      <td>-0.291368</td>\n",
       "      <td>-0.746167</td>\n",
       "      <td>-1.022459</td>\n",
       "      <td>-1.170479</td>\n",
       "      <td>...</td>\n",
       "      <td>-1.454196</td>\n",
       "      <td>-1.347107</td>\n",
       "      <td>-0.774490</td>\n",
       "      <td>-0.530603</td>\n",
       "      <td>-0.534923</td>\n",
       "      <td>-0.495350</td>\n",
       "      <td>-0.292331</td>\n",
       "      <td>-0.119948</td>\n",
       "      <td>0.631333</td>\n",
       "      <td>1.240474</td>\n",
       "    </tr>\n",
       "    <tr>\n",
       "      <th>25507</th>\n",
       "      <td>0.764826</td>\n",
       "      <td>0.672346</td>\n",
       "      <td>0.633712</td>\n",
       "      <td>0.465792</td>\n",
       "      <td>0.188615</td>\n",
       "      <td>-0.291417</td>\n",
       "      <td>-0.746166</td>\n",
       "      <td>-1.022456</td>\n",
       "      <td>-1.170552</td>\n",
       "      <td>-1.174268</td>\n",
       "      <td>...</td>\n",
       "      <td>-1.347139</td>\n",
       "      <td>-0.774498</td>\n",
       "      <td>-0.530601</td>\n",
       "      <td>-0.534937</td>\n",
       "      <td>-0.495355</td>\n",
       "      <td>-0.292341</td>\n",
       "      <td>-0.119969</td>\n",
       "      <td>0.631294</td>\n",
       "      <td>1.240439</td>\n",
       "      <td>1.017090</td>\n",
       "    </tr>\n",
       "    <tr>\n",
       "      <th>25508</th>\n",
       "      <td>0.672348</td>\n",
       "      <td>0.633713</td>\n",
       "      <td>0.465787</td>\n",
       "      <td>0.188604</td>\n",
       "      <td>-0.291443</td>\n",
       "      <td>-0.746226</td>\n",
       "      <td>-1.022455</td>\n",
       "      <td>-1.170549</td>\n",
       "      <td>-1.174341</td>\n",
       "      <td>-0.830164</td>\n",
       "      <td>...</td>\n",
       "      <td>-0.774528</td>\n",
       "      <td>-0.530608</td>\n",
       "      <td>-0.534935</td>\n",
       "      <td>-0.495370</td>\n",
       "      <td>-0.292352</td>\n",
       "      <td>-0.119983</td>\n",
       "      <td>0.631255</td>\n",
       "      <td>1.240386</td>\n",
       "      <td>1.017057</td>\n",
       "      <td>0.658994</td>\n",
       "    </tr>\n",
       "    <tr>\n",
       "      <th>25509</th>\n",
       "      <td>0.633715</td>\n",
       "      <td>0.465788</td>\n",
       "      <td>0.188599</td>\n",
       "      <td>-0.291459</td>\n",
       "      <td>-0.746261</td>\n",
       "      <td>-1.022523</td>\n",
       "      <td>-1.170548</td>\n",
       "      <td>-1.174338</td>\n",
       "      <td>-0.830226</td>\n",
       "      <td>-1.024068</td>\n",
       "      <td>...</td>\n",
       "      <td>-0.530637</td>\n",
       "      <td>-0.534942</td>\n",
       "      <td>-0.495368</td>\n",
       "      <td>-0.292372</td>\n",
       "      <td>-0.119998</td>\n",
       "      <td>0.631228</td>\n",
       "      <td>1.240334</td>\n",
       "      <td>1.017010</td>\n",
       "      <td>0.658966</td>\n",
       "      <td>0.556773</td>\n",
       "    </tr>\n",
       "    <tr>\n",
       "      <th>25510</th>\n",
       "      <td>0.465790</td>\n",
       "      <td>0.188600</td>\n",
       "      <td>-0.291466</td>\n",
       "      <td>-0.746282</td>\n",
       "      <td>-1.022563</td>\n",
       "      <td>-1.170620</td>\n",
       "      <td>-1.174337</td>\n",
       "      <td>-0.830223</td>\n",
       "      <td>-1.024137</td>\n",
       "      <td>-1.417704</td>\n",
       "      <td>...</td>\n",
       "      <td>-0.534971</td>\n",
       "      <td>-0.495375</td>\n",
       "      <td>-0.292370</td>\n",
       "      <td>-0.120023</td>\n",
       "      <td>0.631191</td>\n",
       "      <td>1.240294</td>\n",
       "      <td>1.016962</td>\n",
       "      <td>0.658926</td>\n",
       "      <td>0.556747</td>\n",
       "      <td>0.486026</td>\n",
       "    </tr>\n",
       "  </tbody>\n",
       "</table>\n",
       "<p>25511 rows × 24 columns</p>\n",
       "</div>"
      ],
      "text/plain": [
       "             t0        t1        t2        t3        t4        t5        t6  \\\n",
       "0      0.139269 -0.312818 -0.583343 -0.703747 -0.638005 -0.142372 -0.842940   \n",
       "1     -0.312816 -0.583342 -0.703756 -0.638025 -0.142395 -0.843003 -1.062064   \n",
       "2     -0.583340 -0.703755 -0.638034 -0.142409 -0.843040 -1.062133 -0.554261   \n",
       "3     -0.703753 -0.638033 -0.142416 -0.843061 -1.062174 -0.554316  0.284463   \n",
       "4     -0.638031 -0.142415 -0.843071 -1.062198 -0.554348  0.284430  1.108385   \n",
       "...         ...       ...       ...       ...       ...       ...       ...   \n",
       "25506  1.111635  0.764823  0.672345  0.633716  0.465799  0.188632 -0.291368   \n",
       "25507  0.764826  0.672346  0.633712  0.465792  0.188615 -0.291417 -0.746166   \n",
       "25508  0.672348  0.633713  0.465787  0.188604 -0.291443 -0.746226 -1.022455   \n",
       "25509  0.633715  0.465788  0.188599 -0.291459 -0.746261 -1.022523 -1.170548   \n",
       "25510  0.465790  0.188600 -0.291466 -0.746282 -1.022563 -1.170620 -1.174337   \n",
       "\n",
       "             t7        t8        t9  ...       t14       t15       t16  \\\n",
       "0     -1.062065 -0.554264  0.284486  ...  0.189369 -0.119381 -0.168205   \n",
       "1     -0.554262  0.284462  1.108382  ... -0.119408 -0.168212  1.353767   \n",
       "2      0.284463  1.108385  1.567593  ... -0.168239  1.353762  1.726160   \n",
       "3      1.108385  1.567611  1.257220  ...  1.353741  1.726156  1.415405   \n",
       "4      1.567610  1.257228  0.548353  ...  1.726136  1.415400  1.268288   \n",
       "...         ...       ...       ...  ...       ...       ...       ...   \n",
       "25506 -0.746167 -1.022459 -1.170479  ... -1.454196 -1.347107 -0.774490   \n",
       "25507 -1.022456 -1.170552 -1.174268  ... -1.347139 -0.774498 -0.530601   \n",
       "25508 -1.170549 -1.174341 -0.830164  ... -0.774528 -0.530608 -0.534935   \n",
       "25509 -1.174338 -0.830226 -1.024068  ... -0.530637 -0.534942 -0.495368   \n",
       "25510 -0.830223 -1.024137 -1.417704  ... -0.534971 -0.495375 -0.292370   \n",
       "\n",
       "            t17       t18       t19       t20       t21       t22       t23  \n",
       "0      1.353765  1.726236  1.415530  1.268445  1.198858  0.961596  0.555192  \n",
       "1      1.726159  1.415471  1.268405  1.198807  0.961549  0.555166  0.157655  \n",
       "2      1.415403  1.268350  1.198768  0.961503  0.555129  0.157635 -0.325621  \n",
       "3      1.268286  1.198715  0.961469  0.555092  0.157606 -0.325635 -0.584829  \n",
       "4      1.198653  0.961423  0.555066  0.157578 -0.325653 -0.584840 -0.706357  \n",
       "...         ...       ...       ...       ...       ...       ...       ...  \n",
       "25506 -0.530603 -0.534923 -0.495350 -0.292331 -0.119948  0.631333  1.240474  \n",
       "25507 -0.534937 -0.495355 -0.292341 -0.119969  0.631294  1.240439  1.017090  \n",
       "25508 -0.495370 -0.292352 -0.119983  0.631255  1.240386  1.017057  0.658994  \n",
       "25509 -0.292372 -0.119998  0.631228  1.240334  1.017010  0.658966  0.556773  \n",
       "25510 -0.120023  0.631191  1.240294  1.016962  0.658926  0.556747  0.486026  \n",
       "\n",
       "[25511 rows x 24 columns]"
      ]
     },
     "execution_count": 22,
     "metadata": {},
     "output_type": "execute_result"
    }
   ],
   "source": [
    "from sklearn.preprocessing import StandardScaler\n",
    "scaler = StandardScaler()\n",
    "scaler.fit(df1)\n",
    "array2=scaler.transform(df1)\n",
    "df_standardScaled= pd.DataFrame(array2, columns=names)\n",
    "df_standardScaled"
   ]
  },
  {
   "cell_type": "code",
   "execution_count": 23,
   "id": "e56d6dc5",
   "metadata": {},
   "outputs": [],
   "source": [
    "from sklearn.model_selection import train_test_split\n",
    "x_train,x_test,y_train,y_test=train_test_split(df_standardScaled,df2,test_size=0.2,random_state=0)"
   ]
  },
  {
   "cell_type": "code",
   "execution_count": 24,
   "id": "517c5b94",
   "metadata": {},
   "outputs": [
    {
     "data": {
      "text/html": [
       "<style>#sk-container-id-2 {color: black;background-color: white;}#sk-container-id-2 pre{padding: 0;}#sk-container-id-2 div.sk-toggleable {background-color: white;}#sk-container-id-2 label.sk-toggleable__label {cursor: pointer;display: block;width: 100%;margin-bottom: 0;padding: 0.3em;box-sizing: border-box;text-align: center;}#sk-container-id-2 label.sk-toggleable__label-arrow:before {content: \"▸\";float: left;margin-right: 0.25em;color: #696969;}#sk-container-id-2 label.sk-toggleable__label-arrow:hover:before {color: black;}#sk-container-id-2 div.sk-estimator:hover label.sk-toggleable__label-arrow:before {color: black;}#sk-container-id-2 div.sk-toggleable__content {max-height: 0;max-width: 0;overflow: hidden;text-align: left;background-color: #f0f8ff;}#sk-container-id-2 div.sk-toggleable__content pre {margin: 0.2em;color: black;border-radius: 0.25em;background-color: #f0f8ff;}#sk-container-id-2 input.sk-toggleable__control:checked~div.sk-toggleable__content {max-height: 200px;max-width: 100%;overflow: auto;}#sk-container-id-2 input.sk-toggleable__control:checked~label.sk-toggleable__label-arrow:before {content: \"▾\";}#sk-container-id-2 div.sk-estimator input.sk-toggleable__control:checked~label.sk-toggleable__label {background-color: #d4ebff;}#sk-container-id-2 div.sk-label input.sk-toggleable__control:checked~label.sk-toggleable__label {background-color: #d4ebff;}#sk-container-id-2 input.sk-hidden--visually {border: 0;clip: rect(1px 1px 1px 1px);clip: rect(1px, 1px, 1px, 1px);height: 1px;margin: -1px;overflow: hidden;padding: 0;position: absolute;width: 1px;}#sk-container-id-2 div.sk-estimator {font-family: monospace;background-color: #f0f8ff;border: 1px dotted black;border-radius: 0.25em;box-sizing: border-box;margin-bottom: 0.5em;}#sk-container-id-2 div.sk-estimator:hover {background-color: #d4ebff;}#sk-container-id-2 div.sk-parallel-item::after {content: \"\";width: 100%;border-bottom: 1px solid gray;flex-grow: 1;}#sk-container-id-2 div.sk-label:hover label.sk-toggleable__label {background-color: #d4ebff;}#sk-container-id-2 div.sk-serial::before {content: \"\";position: absolute;border-left: 1px solid gray;box-sizing: border-box;top: 0;bottom: 0;left: 50%;z-index: 0;}#sk-container-id-2 div.sk-serial {display: flex;flex-direction: column;align-items: center;background-color: white;padding-right: 0.2em;padding-left: 0.2em;position: relative;}#sk-container-id-2 div.sk-item {position: relative;z-index: 1;}#sk-container-id-2 div.sk-parallel {display: flex;align-items: stretch;justify-content: center;background-color: white;position: relative;}#sk-container-id-2 div.sk-item::before, #sk-container-id-2 div.sk-parallel-item::before {content: \"\";position: absolute;border-left: 1px solid gray;box-sizing: border-box;top: 0;bottom: 0;left: 50%;z-index: -1;}#sk-container-id-2 div.sk-parallel-item {display: flex;flex-direction: column;z-index: 1;position: relative;background-color: white;}#sk-container-id-2 div.sk-parallel-item:first-child::after {align-self: flex-end;width: 50%;}#sk-container-id-2 div.sk-parallel-item:last-child::after {align-self: flex-start;width: 50%;}#sk-container-id-2 div.sk-parallel-item:only-child::after {width: 0;}#sk-container-id-2 div.sk-dashed-wrapped {border: 1px dashed gray;margin: 0 0.4em 0.5em 0.4em;box-sizing: border-box;padding-bottom: 0.4em;background-color: white;}#sk-container-id-2 div.sk-label label {font-family: monospace;font-weight: bold;display: inline-block;line-height: 1.2em;}#sk-container-id-2 div.sk-label-container {text-align: center;}#sk-container-id-2 div.sk-container {/* jupyter's `normalize.less` sets `[hidden] { display: none; }` but bootstrap.min.css set `[hidden] { display: none !important; }` so we also need the `!important` here to be able to override the default hidden behavior on the sphinx rendered scikit-learn.org. See: https://github.com/scikit-learn/scikit-learn/issues/21755 */display: inline-block !important;position: relative;}#sk-container-id-2 div.sk-text-repr-fallback {display: none;}</style><div id=\"sk-container-id-2\" class=\"sk-top-container\"><div class=\"sk-text-repr-fallback\"><pre>SVR()</pre><b>In a Jupyter environment, please rerun this cell to show the HTML representation or trust the notebook. <br />On GitHub, the HTML representation is unable to render, please try loading this page with nbviewer.org.</b></div><div class=\"sk-container\" hidden><div class=\"sk-item\"><div class=\"sk-estimator sk-toggleable\"><input class=\"sk-toggleable__control sk-hidden--visually\" id=\"sk-estimator-id-2\" type=\"checkbox\" checked><label for=\"sk-estimator-id-2\" class=\"sk-toggleable__label sk-toggleable__label-arrow\">SVR</label><div class=\"sk-toggleable__content\"><pre>SVR()</pre></div></div></div></div></div>"
      ],
      "text/plain": [
       "SVR()"
      ]
     },
     "execution_count": 24,
     "metadata": {},
     "output_type": "execute_result"
    }
   ],
   "source": [
    "from sklearn import svm\n",
    "regr = svm.SVR()\n",
    "regr.fit(x_train,y_train)"
   ]
  },
  {
   "cell_type": "code",
   "execution_count": 25,
   "id": "eadc5bd0",
   "metadata": {},
   "outputs": [],
   "source": [
    "y_predict=regr.predict(x_test)"
   ]
  },
  {
   "cell_type": "code",
   "execution_count": 26,
   "id": "bb2114f2",
   "metadata": {},
   "outputs": [
    {
     "data": {
      "text/plain": [
       "0.07339857940672855"
      ]
     },
     "execution_count": 26,
     "metadata": {},
     "output_type": "execute_result"
    }
   ],
   "source": [
    "import sklearn.metrics as sm\n",
    "sm.mean_absolute_error(y_test, y_predict)"
   ]
  },
  {
   "cell_type": "code",
   "execution_count": 13,
   "id": "bc1d369f",
   "metadata": {},
   "outputs": [
    {
     "data": {
      "text/plain": [
       "0.9639398915640377"
      ]
     },
     "execution_count": 13,
     "metadata": {},
     "output_type": "execute_result"
    }
   ],
   "source": [
    "sm.r2_score(y_test, y_predict)"
   ]
  },
  {
   "cell_type": "code",
   "execution_count": 14,
   "id": "b51d45aa",
   "metadata": {},
   "outputs": [
    {
     "data": {
      "text/plain": [
       "0.9639470315243847"
      ]
     },
     "execution_count": 14,
     "metadata": {},
     "output_type": "execute_result"
    }
   ],
   "source": [
    "sm.explained_variance_score(y_test, y_predict)"
   ]
  },
  {
   "cell_type": "code",
   "execution_count": 15,
   "id": "d097c3d9",
   "metadata": {},
   "outputs": [
    {
     "data": {
      "text/plain": [
       "0.01738032790423812"
      ]
     },
     "execution_count": 15,
     "metadata": {},
     "output_type": "execute_result"
    }
   ],
   "source": [
    "sm.mean_squared_error(y_test, y_predict)"
   ]
  },
  {
   "cell_type": "code",
   "execution_count": 16,
   "id": "30ca0a9b",
   "metadata": {},
   "outputs": [
    {
     "data": {
      "text/plain": [
       "0.047867887273916665"
      ]
     },
     "execution_count": 16,
     "metadata": {},
     "output_type": "execute_result"
    }
   ],
   "source": [
    "sm.median_absolute_error(y_test, y_predict)"
   ]
  },
  {
   "cell_type": "code",
   "execution_count": 17,
   "id": "e8a78182",
   "metadata": {},
   "outputs": [
    {
     "data": {
      "text/plain": [
       "0.03685246141094265"
      ]
     },
     "execution_count": 17,
     "metadata": {},
     "output_type": "execute_result"
    }
   ],
   "source": [
    "sm.mean_absolute_percentage_error(y_test,y_predict)"
   ]
  },
  {
   "cell_type": "code",
   "execution_count": 18,
   "id": "73ed8d09",
   "metadata": {},
   "outputs": [
    {
     "data": {
      "text/plain": [
       "2.176590606757983"
      ]
     },
     "execution_count": 18,
     "metadata": {},
     "output_type": "execute_result"
    }
   ],
   "source": [
    "sm.max_error(y_test,y_predict)"
   ]
  },
  {
   "cell_type": "code",
   "execution_count": 19,
   "id": "6d73ad23",
   "metadata": {},
   "outputs": [
    {
     "data": {
      "text/plain": [
       "0.001998626149556454"
      ]
     },
     "execution_count": 19,
     "metadata": {},
     "output_type": "execute_result"
    }
   ],
   "source": [
    "sm.mean_squared_log_error(y_test, y_predict)"
   ]
  },
  {
   "cell_type": "code",
   "execution_count": 20,
   "id": "ef3b9730",
   "metadata": {},
   "outputs": [
    {
     "data": {
      "text/plain": [
       "0.00910576002215026"
      ]
     },
     "execution_count": 20,
     "metadata": {},
     "output_type": "execute_result"
    }
   ],
   "source": [
    "sm.mean_poisson_deviance(y_test,y_predict)"
   ]
  },
  {
   "cell_type": "code",
   "execution_count": 21,
   "id": "a4b6f176",
   "metadata": {},
   "outputs": [
    {
     "data": {
      "text/plain": [
       "0.005579475267953373"
      ]
     },
     "execution_count": 21,
     "metadata": {},
     "output_type": "execute_result"
    }
   ],
   "source": [
    "sm.mean_gamma_deviance(y_test, y_predict)"
   ]
  },
  {
   "cell_type": "code",
   "execution_count": 22,
   "id": "54a9cf44",
   "metadata": {},
   "outputs": [
    {
     "data": {
      "text/plain": [
       "0.01738032790423812"
      ]
     },
     "execution_count": 22,
     "metadata": {},
     "output_type": "execute_result"
    }
   ],
   "source": [
    "sm.mean_tweedie_deviance(y_test, y_predict)"
   ]
  },
  {
   "cell_type": "code",
   "execution_count": 23,
   "id": "42ef01ff",
   "metadata": {},
   "outputs": [
    {
     "data": {
      "text/plain": [
       "0.9639398915640377"
      ]
     },
     "execution_count": 23,
     "metadata": {},
     "output_type": "execute_result"
    }
   ],
   "source": [
    "sm.d2_tweedie_score(y_test, y_predict)"
   ]
  },
  {
   "cell_type": "code",
   "execution_count": 24,
   "id": "2b8e04e3",
   "metadata": {},
   "outputs": [
    {
     "data": {
      "text/plain": [
       "0.03669928970336427"
      ]
     },
     "execution_count": 24,
     "metadata": {},
     "output_type": "execute_result"
    }
   ],
   "source": [
    "sm.mean_pinball_loss(y_test,y_predict)"
   ]
  },
  {
   "cell_type": "code",
   "execution_count": 25,
   "id": "78038abb",
   "metadata": {},
   "outputs": [
    {
     "data": {
      "text/plain": [
       "0.8613960771100846"
      ]
     },
     "execution_count": 25,
     "metadata": {},
     "output_type": "execute_result"
    }
   ],
   "source": [
    "sm.d2_pinball_score(y_test,y_predict)"
   ]
  },
  {
   "cell_type": "code",
   "execution_count": 26,
   "id": "1726f577",
   "metadata": {},
   "outputs": [
    {
     "data": {
      "text/plain": [
       "0.8613960771100846"
      ]
     },
     "execution_count": 26,
     "metadata": {},
     "output_type": "execute_result"
    }
   ],
   "source": [
    "sm.d2_absolute_error_score(y_test,y_predict)"
   ]
  },
  {
   "cell_type": "code",
   "execution_count": 27,
   "id": "cb05a4ff",
   "metadata": {},
   "outputs": [
    {
     "data": {
      "image/png": "[encoded data removed]",
      "text/plain": [
       "<Figure size 432x288 with 1 Axes>"
      ]
     },
     "metadata": {
      "needs_background": "light"
     },
     "output_type": "display_data"
    }
   ],
   "source": [
    "import numpy as np\n",
    "import matplotlib.pyplot as plt\n",
    "from sklearn.model_selection import learning_curve\n",
    "\n",
    "def plot_learning_curve(estimator, X, y, scoring,train_sizes=np.linspace(0.1, 1.0, 5)):\n",
    "    train_sizes, train_scores, test_scores = learning_curve(estimator, X, y,scoring=scoring, train_sizes=train_sizes)\n",
    "    \n",
    "    train_scores_mean = np.mean(train_scores, axis=1)\n",
    "    train_scores_std = np.std(train_scores, axis=1)\n",
    "    test_scores_mean = np.mean(test_scores, axis=1)\n",
    "    test_scores_std = np.std(test_scores, axis=1)\n",
    "    \n",
    "    plt.figure()\n",
    "    plt.title('')\n",
    "    plt.xlabel('Number of Training Examples')\n",
    "    plt.ylabel('Score')\n",
    "    plt.grid()\n",
    "    \n",
    "    plt.fill_between(train_sizes, train_scores_mean - train_scores_std,\n",
    "                     train_scores_mean + train_scores_std, alpha=0.1, color='r')\n",
    "    plt.fill_between(train_sizes, test_scores_mean - test_scores_std,\n",
    "                     test_scores_mean + test_scores_std, alpha=0.1, color='g')\n",
    "    plt.plot(train_sizes, train_scores_mean, 'o-', color='r', label='Training score')\n",
    "    plt.plot(train_sizes, test_scores_mean, 'o-', color='g', label='Cross-validation score')\n",
    "    \n",
    "    plt.legend(loc='lower right')\n",
    "    plt.savefig('C:\\\\Users\\\\Samer\\\\Documents\\\\My Project\\\\Focasting electricity demand\\\\article revised for heliyoun\\\\r2 learning curve of support vector regressor.png')\n",
    "    plt.show()\n",
    "\n",
    "plot_learning_curve(regr,df_standardScaled,df2,scoring='r2')"
   ]
  },
  {
   "cell_type": "code",
   "execution_count": 13,
   "id": "faa18b76",
   "metadata": {},
   "outputs": [
    {
     "data": {
      "image/png": "[encoded data removed]",
      "text/plain": [
       "<Figure size 432x288 with 1 Axes>"
      ]
     },
     "metadata": {
      "needs_background": "light"
     },
     "output_type": "display_data"
    }
   ],
   "source": [
    "from sklearn.inspection import permutation_importance\n",
    "import matplotlib.pyplot as plt\n",
    "result = permutation_importance(\n",
    "    regr, x_test, y_test, n_repeats=10, random_state=42, n_jobs=2\n",
    ")\n",
    "\n",
    "importances = pd.Series(result.importances_mean, index=names)\n",
    "fig, ax = plt.subplots()\n",
    "importances.plot.bar(yerr=result.importances_std, ax=ax)\n",
    "ax.set_title(\"Features\")\n",
    "ax.set_ylabel(\"Importance\")\n",
    "fig.tight_layout()\n",
    "plt.savefig('C:\\\\Users\\\\Samer\\\\Documents\\\\My Project\\\\Focasting electricity demand\\\\article revised for heliyoun\\\\feature importance support vector.png')\n",
    "plt.show()"
   ]
  },
  {
   "cell_type": "code",
   "execution_count": 27,
   "id": "1419614c",
   "metadata": {},
   "outputs": [
    {
     "name": "stdout",
     "output_type": "stream",
     "text": [
      "0.003584874723317253\n"
     ]
    }
   ],
   "source": [
    "print(sm.mean_tweedie_deviance(y_test, y_predict,power=5))\n"
   ]
  },
  {
   "cell_type": "code",
   "execution_count": null,
   "id": "30d23a36",
   "metadata": {},
   "outputs": [],
   "source": []
  }
 ],
 "metadata": {
  "kernelspec": {
   "display_name": "Python 3 (ipykernel)",
   "language": "python",
   "name": "python3"
  },
  "language_info": {
   "codemirror_mode": {
    "name": "ipython",
    "version": 3
   },
   "file_extension": ".py",
   "mimetype": "text/x-python",
   "name": "python",
   "nbconvert_exporter": "python",
   "pygments_lexer": "ipython3",
   "version": "3.9.7"
  }
 },
 "nbformat": 4,
 "nbformat_minor": 5
}
